{
 "cells": [
  {
   "cell_type": "markdown",
   "metadata": {},
   "source": [
    "1) A partir de una lista vacía, utilizar un ciclo while para cargar allí números negativos del -15 al -1\n",
    "\n",
    "2) ¿Con un ciclo while sería posible recorrer la lista para imprimir sólo los números pares?\n",
    "\n",
    "3) Resolver el punto anterior sin utilizar un ciclo while\n",
    "\n",
    "4) Utilizar el iterable para recorrer sólo los primeros 3 elementos\n",
    "\n",
    "5) Utilizar la función **enumerate** para obtener dentro del iterable, tambien el índice al que corresponde el elemento\n",
    "\n",
    "6) Dada la siguiente lista de números enteros entre 1 y 20, crear un ciclo donde se completen los valores faltantes: lista = [1,2,5,7,8,10,13,14,15,17,20]\n",
    "\n",
    "7) La sucesión de Fibonacci es un listado de números que sigue la fórmula: <br>\n",
    "n<sub>0</sub> = 0<br>\n",
    "n<sub>1</sub> = 1<br>\n",
    "n<sub>i</sub> = n<sub>i-1</sub> + n<sub>i-2</sub><br>\n",
    "Crear una lista con los primeros treinta números de la sucesión.<br>\n",
    "\n",
    "8) Realizar la suma de todos elementos de la lista del punto anterior\n",
    "\n",
    "9) La proporción aurea se expresa con una proporción matemática que nace el número irracional Phi= 1,618… que los griegos llamaron número áureo. El cuál se puede aproximar con la sucesión de Fibonacci. Con la lista del ejercicio anterior, imprimir el cociente de los últimos 5 pares de dos números contiguos:<br>\n",
    "Donde i es la cantidad total de elementos<br>\n",
    "n<sub>i-1</sub> / n<sub>i</sub><br>\n",
    "n<sub>i-2</sub> / n<sub>i-1</sub><br>\n",
    "n<sub>i-3</sub> / n<sub>i-2</sub><br>\n",
    "n<sub>i-4</sub> / n<sub>i-3</sub><br>\n",
    "n<sub>i-5</sub> / n<sub>i-4</sub><br>\n",
    " \n",
    "\n",
    "10) A partir de la variable cadena ya dada, mostrar en qué posiciones aparece la letra \"n\"<br>\n",
    "cadena = 'Hola Mundo. Esto es una practica del lenguaje de programación Python'\n",
    "\n",
    "11) Crear un diccionario e imprimir sus claves utilizando un iterador\n",
    "\n",
    "12) Convertir en una lista la variable \"cadena\" del punto 10 y luego recorrerla con un iterador \n",
    "\n",
    "13) Crear dos listas y unirlas en una tupla utilizando la función zip\n",
    "\n",
    "14) A partir de la siguiente lista de números, crear una nueva sólo si el número es divisible por 7<br>\n",
    "lis = [18,21,29,32,35,42,56,60,63,71,84,90,91,100]\n",
    "\n",
    "15) A partir de la lista de a continuación, contar la cantidad total de elementos que contiene, teniendo en cuenta que un elemento de la lista podría ser otra lista:<br>\n",
    "lis = [[1,2,3,4],'rojo','verde',[True,False,False],['uno','dos','tres']]\n",
    "\n",
    "16) Tomar la lista del punto anterior y convertir cada elemento en una lista si no lo es"
   ]
  },
  {
   "cell_type": "code",
   "execution_count": 2,
   "metadata": {},
   "outputs": [
    {
     "name": "stdout",
     "output_type": "stream",
     "text": [
      "[-15, -14, -13, -12, -11, -10, -9, -8, -7, -6, -5, -4, -3, -2, -1]\n"
     ]
    }
   ],
   "source": [
    "# 1) A partir de una lista vacía, utilizar un ciclo while para cargar allí números negativos del -15 al -1\n",
    "\n",
    "mi_lista = []\n",
    "n = -15\n",
    "while n < 0:\n",
    "    mi_lista.append(n)\n",
    "    n += 1\n",
    "print(mi_lista)"
   ]
  },
  {
   "cell_type": "code",
   "execution_count": 4,
   "metadata": {},
   "outputs": [
    {
     "name": "stdout",
     "output_type": "stream",
     "text": [
      "-14\n",
      "-12\n",
      "-10\n",
      "-8\n",
      "-6\n",
      "-4\n",
      "-2\n"
     ]
    }
   ],
   "source": [
    "# 2) ¿Con un ciclo while sería posible recorrer la lista para imprimir sólo los números pares?\n",
    "i = 0\n",
    "while i < len(mi_lista):\n",
    "    if mi_lista[i] % 2 == 0:\n",
    "        print(mi_lista[i])\n",
    "    i += 1"
   ]
  },
  {
   "cell_type": "code",
   "execution_count": 5,
   "metadata": {},
   "outputs": [
    {
     "name": "stdout",
     "output_type": "stream",
     "text": [
      "-14\n",
      "-12\n",
      "-10\n",
      "-8\n",
      "-6\n",
      "-4\n",
      "-2\n"
     ]
    }
   ],
   "source": [
    "# 3) Resolver el punto anterior sin utilizar un ciclo while\n",
    "for nro in mi_lista:\n",
    "    if nro % 2 == 0:\n",
    "        print(nro)"
   ]
  },
  {
   "cell_type": "code",
   "execution_count": 7,
   "metadata": {},
   "outputs": [
    {
     "name": "stdout",
     "output_type": "stream",
     "text": [
      "-15\n",
      "-14\n",
      "-13\n",
      "-15\n",
      "-14\n",
      "-13\n"
     ]
    }
   ],
   "source": [
    "# 4) Utilizar el iterable para recorrer sólo los primeros 3 elementos\n",
    "for i,nro in enumerate(mi_lista):\n",
    "    if i<3:\n",
    "        print(nro)\n",
    "    else:\n",
    "        break\n",
    "\n",
    "#### bin hecho:\n",
    "for nro in mi_lista[:3]:\n",
    "    print(nro)\n"
   ]
  },
  {
   "cell_type": "code",
   "execution_count": 8,
   "metadata": {},
   "outputs": [
    {
     "name": "stdout",
     "output_type": "stream",
     "text": [
      "Indice: 0 / Numero: -15\n",
      "Indice: 1 / Numero: -14\n",
      "Indice: 2 / Numero: -13\n",
      "Indice: 3 / Numero: -12\n",
      "Indice: 4 / Numero: -11\n",
      "Indice: 5 / Numero: -10\n",
      "Indice: 6 / Numero: -9\n",
      "Indice: 7 / Numero: -8\n",
      "Indice: 8 / Numero: -7\n",
      "Indice: 9 / Numero: -6\n",
      "Indice: 10 / Numero: -5\n",
      "Indice: 11 / Numero: -4\n",
      "Indice: 12 / Numero: -3\n",
      "Indice: 13 / Numero: -2\n",
      "Indice: 14 / Numero: -1\n"
     ]
    }
   ],
   "source": [
    "# 5) Utilizar la función **enumerate** para obtener dentro del iterable, tambien el índice al que corresponde el elemento\n",
    "for i,nro in enumerate(mi_lista):\n",
    "    print(f\"Indice: {i} / Numero: {nro}\")"
   ]
  },
  {
   "cell_type": "code",
   "execution_count": 10,
   "metadata": {},
   "outputs": [
    {
     "name": "stdout",
     "output_type": "stream",
     "text": [
      "[1, 2, 5, 7, 8, 10, 13, 14, 15, 17, 20]\n",
      "[1, 2, 3, 4, 5, 6, 7, 8, 9, 10, 11, 12, 13, 14, 15, 16, 17, 18, 19, 20]\n"
     ]
    }
   ],
   "source": [
    "# 6) Dada la siguiente lista de números enteros entre 1 y 20, crear un ciclo donde se completen los valores \n",
    "# faltantes: \n",
    "lista = [1,2,5,7,8,10,13,14,15,17,20]\n",
    "print(lista)\n",
    "n = 1\n",
    "while n <= 20:\n",
    "    if n not in lista:\n",
    "        lista.insert(n-1, n)\n",
    "    n += 1\n",
    "print(lista)"
   ]
  },
  {
   "cell_type": "code",
   "execution_count": 14,
   "metadata": {},
   "outputs": [
    {
     "name": "stdout",
     "output_type": "stream",
     "text": [
      "[0, 1, 1, 2, 3, 5, 8, 13, 21, 34, 55, 89, 144, 233, 377, 610, 987, 1597, 2584, 4181, 6765, 10946, 17711, 28657, 46368, 75025, 121393, 196418, 317811, 514229]\n",
      "30\n"
     ]
    }
   ],
   "source": [
    "# 7) La sucesión de Fibonacci es un listado de números que sigue la fórmula: \n",
    "# n0 = 0\n",
    "# n1 = 1\n",
    "# ni = ni-1 + ni-2\n",
    "# Crear una lista con los primeros treinta números de la sucesión.\n",
    "\n",
    "fibonacci = [0, 1]\n",
    "n = 2\n",
    "while n < 30:\n",
    "    fibonacci.append(fibonacci[n-1] + fibonacci[n-2])\n",
    "    n += 1\n",
    "print(fibonacci)\n",
    "print(len(fibonacci))"
   ]
  },
  {
   "cell_type": "code",
   "execution_count": 15,
   "metadata": {},
   "outputs": [
    {
     "name": "stdout",
     "output_type": "stream",
     "text": [
      "1346268\n"
     ]
    }
   ],
   "source": [
    "# 8) Realizar la suma de todos elementos de la lista del punto anterior\n",
    "print(sum(fibonacci))"
   ]
  },
  {
   "cell_type": "markdown",
   "metadata": {},
   "source": [
    "9) La proporción aurea se expresa con una proporción matemática que nace el número irracional Phi= 1,618… que los griegos llamaron número áureo. El cuál se puede aproximar con la sucesión de Fibonacci. Con la lista del ejercicio anterior, imprimir el cociente de los últimos 5 pares de dos números contiguos:<br>\n",
    "Donde i es la cantidad total de elementos<br>\n",
    "n<sub>i-1</sub> / n<sub>i</sub><br>\n",
    "n<sub>i-2</sub> / n<sub>i-1</sub><br>\n",
    "n<sub>i-3</sub> / n<sub>i-2</sub><br>\n",
    "n<sub>i-4</sub> / n<sub>i-3</sub><br>\n",
    "n<sub>i-5</sub> / n<sub>i-4</sub><br>\n",
    " \n",
    "\n",
    "10) A partir de la variable cadena ya dada, mostrar en qué posiciones aparece la letra \"n\"<br>\n",
    "cadena = 'Hola Mundo. Esto es una practica del lenguaje de programación Python'\n",
    "\n",
    "11) Crear un diccionario e imprimir sus claves utilizando un iterador\n",
    "\n",
    "12) Convertir en una lista la variable \"cadena\" del punto 10 y luego recorrerla con un iterador \n",
    "\n",
    "13) Crear dos listas y unirlas en una tupla utilizando la función zip\n",
    "\n",
    "14) A partir de la siguiente lista de números, crear una nueva sólo si el número es divisible por 7<br>\n",
    "lis = [18,21,29,32,35,42,56,60,63,71,84,90,91,100]\n",
    "\n",
    "15) A partir de la lista de a continuación, contar la cantidad total de elementos que contiene, teniendo en cuenta que un elemento de la lista podría ser otra lista:<br>\n",
    "lis = [[1,2,3,4],'rojo','verde',[True,False,False],['uno','dos','tres']]\n",
    "\n",
    "16) Tomar la lista del punto anterior y convertir cada elemento en una lista si no lo es"
   ]
  },
  {
   "cell_type": "code",
   "execution_count": 19,
   "metadata": {},
   "outputs": [
    {
     "name": "stdout",
     "output_type": "stream",
     "text": [
      "Cociente entre posiciones 25 y 24 = 1.618033988957902\n",
      "Cociente entre posiciones 26 y 25 = 1.6180339886704431\n",
      "Cociente entre posiciones 27 y 26 = 1.6180339887802426\n",
      "Cociente entre posiciones 28 y 27 = 1.618033988738303\n",
      "Cociente entre posiciones 29 y 28 = 1.6180339887543225\n"
     ]
    }
   ],
   "source": [
    "# 9) La proporción aurea se expresa con una proporción matemática que nace el número irracional Phi= 1,618… que los \n",
    "# griegos llamaron número áureo. El cuál se puede aproximar con la sucesión de Fibonacci. \n",
    "# Con la lista del ejercicio anterior, imprimir el cociente de los últimos 5 pares de dos números contiguos:<br>\n",
    "# Donde i es la cantidad total de elementos<br>\n",
    "# n<sub>i-1</sub> / n<sub>i</sub><br>\n",
    "# n<sub>i-2</sub> / n<sub>i-1</sub><br>\n",
    "# n<sub>i-3</sub> / n<sub>i-2</sub><br>\n",
    "# n<sub>i-4</sub> / n<sub>i-3</sub><br>\n",
    "# n<sub>i-5</sub> / n<sub>i-4</sub><br>\n",
    "\n",
    "for i in range(len(fibonacci) - 5, len(fibonacci)):\n",
    "    print(f\"Cociente entre posiciones {i} y {i-1} = {fibonacci[i] / fibonacci[i-1]}\")"
   ]
  },
  {
   "cell_type": "code",
   "execution_count": 22,
   "metadata": {},
   "outputs": [
    {
     "name": "stdout",
     "output_type": "stream",
     "text": [
      "Hay una 'n' en la posicion 7 de la cadena\n",
      "Hay una 'n' en la posicion 21 de la cadena\n",
      "Hay una 'n' en la posicion 39 de la cadena\n",
      "Hay una 'n' en la posicion 60 de la cadena\n",
      "Hay una 'n' en la posicion 67 de la cadena\n"
     ]
    }
   ],
   "source": [
    "# 10) A partir de la variable cadena ya dada, mostrar en qué posiciones aparece la letra \"n\"\n",
    "\n",
    "cadena = 'Hola Mundo. Esto es una practica del lenguaje de programación Python'\n",
    "for i,letra in enumerate(cadena):\n",
    "    if letra == 'n':\n",
    "        print(f\"Hay una 'n' en la posicion {i} de la cadena\")"
   ]
  },
  {
   "cell_type": "code",
   "execution_count": 26,
   "metadata": {},
   "outputs": [
    {
     "name": "stdout",
     "output_type": "stream",
     "text": [
      "a\n",
      "b\n",
      "c\n",
      "Mas simple:\n",
      "a\n",
      "b\n",
      "c\n"
     ]
    }
   ],
   "source": [
    "# 11) Crear un diccionario e imprimir sus claves utilizando un iterador\n",
    "\n",
    "diccionario = {\"a\": [\"arbol\", \"animal\", \"abeja\"],\n",
    "\"b\": [\"barco\", \"bestia\"],\n",
    "\"c\": [\"casa\"]}\n",
    "\n",
    "marcador = iter(diccionario)\n",
    "for i in range(0, len(diccionario)):\n",
    "    print(next(marcador))\n",
    "\n",
    "# mas simple\n",
    "print(\"Mas simple:\")\n",
    "for i in diccionario:\n",
    "    print(i)"
   ]
  },
  {
   "cell_type": "code",
   "execution_count": 27,
   "metadata": {},
   "outputs": [
    {
     "name": "stdout",
     "output_type": "stream",
     "text": [
      "H\n",
      "o\n",
      "l\n",
      "a\n",
      " \n",
      "M\n",
      "u\n",
      "n\n",
      "d\n",
      "o\n",
      ".\n",
      " \n",
      "E\n",
      "s\n",
      "t\n",
      "o\n",
      " \n",
      "e\n",
      "s\n",
      " \n",
      "u\n",
      "n\n",
      "a\n",
      " \n",
      "p\n",
      "r\n",
      "a\n",
      "c\n",
      "t\n",
      "i\n",
      "c\n",
      "a\n",
      " \n",
      "d\n",
      "e\n",
      "l\n",
      " \n",
      "l\n",
      "e\n",
      "n\n",
      "g\n",
      "u\n",
      "a\n",
      "j\n",
      "e\n",
      " \n",
      "d\n",
      "e\n",
      " \n",
      "p\n",
      "r\n",
      "o\n",
      "g\n",
      "r\n",
      "a\n",
      "m\n",
      "a\n",
      "c\n",
      "i\n",
      "ó\n",
      "n\n",
      " \n",
      "P\n",
      "y\n",
      "t\n",
      "h\n",
      "o\n",
      "n\n"
     ]
    }
   ],
   "source": [
    "# 12) Convertir en una lista la variable \"cadena\" del punto 10 y luego recorrerla con un iterador \n",
    "cadena = 'Hola Mundo. Esto es una practica del lenguaje de programación Python'\n",
    "lista = list(cadena)\n",
    "for caracter in lista:\n",
    "    print(caracter)\n"
   ]
  },
  {
   "cell_type": "code",
   "execution_count": 35,
   "metadata": {},
   "outputs": [
    {
     "name": "stdout",
     "output_type": "stream",
     "text": [
      "H\n",
      "o\n",
      "l\n",
      "a\n",
      " \n",
      "M\n",
      "u\n",
      "n\n",
      "d\n",
      "o\n",
      ".\n",
      " \n",
      "E\n",
      "s\n",
      "t\n",
      "o\n",
      " \n",
      "e\n",
      "s\n",
      " \n",
      "u\n",
      "n\n",
      "a\n",
      " \n",
      "p\n",
      "r\n",
      "a\n",
      "c\n",
      "t\n",
      "i\n",
      "c\n",
      "a\n",
      " \n",
      "d\n",
      "e\n",
      "l\n",
      " \n",
      "l\n",
      "e\n",
      "n\n",
      "g\n",
      "u\n",
      "a\n",
      "j\n",
      "e\n",
      " \n",
      "d\n",
      "e\n",
      " \n",
      "p\n",
      "r\n",
      "o\n",
      "g\n",
      "r\n",
      "a\n",
      "m\n",
      "a\n",
      "c\n",
      "i\n",
      "ó\n",
      "n\n",
      " \n",
      "P\n",
      "y\n",
      "t\n",
      "h\n",
      "o\n",
      "n\n"
     ]
    }
   ],
   "source": [
    "# 12 bis\n",
    "marcador = iter(lista)\n",
    "for i in range(0, len(lista)):\n",
    "    print(next(marcador))"
   ]
  },
  {
   "cell_type": "code",
   "execution_count": 36,
   "metadata": {},
   "outputs": [
    {
     "name": "stdout",
     "output_type": "stream",
     "text": [
      "<class 'zip'>\n",
      "<zip object at 0x000001A49DA1A980>\n",
      "[(1, 'a'), (2, 'b'), (3, 'c')]\n"
     ]
    }
   ],
   "source": [
    "# 13) Crear dos listas y unirlas en una tupla utilizando la función zip\n",
    "lista1 = [1,2,3,4]\n",
    "lista2 = [\"a\", \"b\", \"c\"]\n",
    "\n",
    "tupla1 = zip(lista1, lista2)\n",
    "print(type(tupla1))\n",
    "print(tupla1)\n",
    "print(list(tupla1))"
   ]
  },
  {
   "cell_type": "code",
   "execution_count": 40,
   "metadata": {},
   "outputs": [
    {
     "name": "stdout",
     "output_type": "stream",
     "text": [
      "[21, 35, 42, 56, 63, 84, 91]\n",
      "[21, 35, 42, 56, 63, 84, 91]\n",
      "<class 'list'>\n"
     ]
    }
   ],
   "source": [
    "# 14) A partir de la siguiente lista de números, crear una nueva sólo si el número es divisible por 7<br>\n",
    "lis = [18,21,29,32,35,42,56,60,63,71,84,90,91,100]\n",
    "divisibles = []\n",
    "for nro in lis:\n",
    "    if nro % 7 == 0:\n",
    "        divisibles.append(nro)\n",
    "print(divisibles)\n",
    "\n",
    "# mejor\n",
    "div7 = [nro for nro in lis if nro % 7 == 0]\n",
    "print(div7)\n",
    "print(type(div7))"
   ]
  },
  {
   "cell_type": "code",
   "execution_count": 43,
   "metadata": {},
   "outputs": [
    {
     "name": "stdout",
     "output_type": "stream",
     "text": [
      "La lista tiene 5 elementos/estructuras.  En total son 12 elementos unitarios.\n"
     ]
    }
   ],
   "source": [
    "# 15) A partir de la lista de a continuación, contar la cantidad total de elementos que contiene, \n",
    "# teniendo en cuenta que un elemento de la lista podría ser otra lista:<br>\n",
    "lis = [[1,2,3,4],'rojo','verde',[True,False,False],['uno','dos','tres']]\n",
    "cant1 = len(lis)\n",
    "total = 0\n",
    "for elemento in lis:\n",
    "    if type(elemento) == list:\n",
    "        total += len(elemento)\n",
    "    else:\n",
    "        total += 1\n",
    "\n",
    "print(f\"La lista tiene {cant1} elementos/estructuras.  En total son {total} elementos unitarios.\")\n"
   ]
  },
  {
   "cell_type": "code",
   "execution_count": 47,
   "metadata": {},
   "outputs": [
    {
     "name": "stdout",
     "output_type": "stream",
     "text": [
      "[[1, 2, 3, 4], ['rojo'], ['verde'], [True, False, False], ['uno', 'dos', 'tres'], [6]]\n"
     ]
    }
   ],
   "source": [
    "# 16) Tomar la lista del punto anterior y convertir cada elemento en una lista si no lo es\n",
    "lis = [[1,2,3,4],'rojo','verde',[True,False,False],['uno','dos','tres'], 6]\n",
    "\n",
    "for index, elemento in enumerate(lis):\n",
    "    if type(elemento) != list:\n",
    "        lis[index] = [elemento]\n",
    "\n",
    "print(lis)"
   ]
  }
 ],
 "metadata": {
  "interpreter": {
   "hash": "82bfcc3096c1145326170d394ec97341e3b655d4d04c391247bfafa1e554d91f"
  },
  "kernelspec": {
   "display_name": "Python 3.9.5 64-bit",
   "language": "python",
   "name": "python3"
  },
  "language_info": {
   "codemirror_mode": {
    "name": "ipython",
    "version": 3
   },
   "file_extension": ".py",
   "mimetype": "text/x-python",
   "name": "python",
   "nbconvert_exporter": "python",
   "pygments_lexer": "ipython3",
   "version": "3.9.5"
  },
  "orig_nbformat": 4
 },
 "nbformat": 4,
 "nbformat_minor": 2
}
