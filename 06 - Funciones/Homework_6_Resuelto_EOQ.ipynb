{
 "cells": [
  {
   "cell_type": "markdown",
   "metadata": {},
   "source": [
    "Funciones\n",
    "\n",
    "1) Crear una función que reciba un número como parámetro y devuelva si True si es primo y False si no lo es\n",
    "\n",
    "2) Utilizando la función del punto 1, realizar otra función que reciba de parámetro una lista de números y devuelva sólo aquellos que son primos en otra lista\n",
    "\n",
    "3) Crear una función que al recibir una lista de números, devuelva el que más se repite y cuántas veces lo hace. Si hay más de un \"más repetido\", que devuelva cualquiera\n",
    "\n",
    "4) A la función del punto 3, agregar un parámetro más, que permita elegir si se requiere el menor o el mayor de los mas repetidos.\n",
    "\n",
    "5) Crear una función que convierta entre grados Celsius, Farenheit y Kelvin<br>\n",
    "Fórmula 1\t: (°C × 9/5) + 32 = °F<br>\n",
    "Fórmula 2\t: °C + 273.15 = °K<br>\n",
    "Debe recibir 3 parámetros: el valor, la medida de orígen y la medida de destino\n",
    "\n",
    "\n",
    "6) Iterando una lista con los tres valores posibles de temperatura que recibe la función del punto 5, hacer un print para cada combinación de los mismos:\n",
    "\n",
    "7) Armar una función que devuelva el factorial de un número. Tener en cuenta que el usuario puede equivocarse y enviar de parámetro un número no entero o negativo\n"
   ]
  },
  {
   "cell_type": "code",
   "execution_count": 1,
   "metadata": {},
   "outputs": [],
   "source": [
    "# 1) Crear una función que reciba un número como parámetro y devuelva si True si es primo y False si no lo es\n",
    "\n",
    "def es_primo(num):\n",
    "    aux = num - 1\n",
    "    while aux > 1:\n",
    "        if num % aux == 0:\n",
    "            return False\n",
    "        aux -= 1\n",
    "    return True"
   ]
  },
  {
   "cell_type": "code",
   "execution_count": 13,
   "metadata": {},
   "outputs": [
    {
     "name": "stdout",
     "output_type": "stream",
     "text": [
      "23 es un nro primo\n"
     ]
    }
   ],
   "source": [
    "a = 23\n",
    "flag = es_primo(a)\n",
    "\n",
    "if flag:\n",
    "    print(f\"{a} es un nro primo\")\n",
    "else:\n",
    "    print(f\"{a} NO es un nro primo\")"
   ]
  },
  {
   "cell_type": "code",
   "execution_count": 16,
   "metadata": {},
   "outputs": [],
   "source": [
    "# 2) Utilizando la función del punto 1, realizar otra función que reciba de parámetro una lista de números y devuelva sólo aquellos que son primos en otra lista\n",
    "\n",
    "def dame_lista_primos(numeros):\n",
    "    lista_primos = []\n",
    "    for nro in numeros:\n",
    "        # esprimo = es_primo(nro)\n",
    "        if es_primo(nro):\n",
    "            lista_primos.append(nro)\n",
    "    return lista_primos"
   ]
  },
  {
   "cell_type": "code",
   "execution_count": 18,
   "metadata": {},
   "outputs": [
    {
     "data": {
      "text/plain": [
       "[1, 2, 3, 5, 7, 11, 13, 17, 19, 23, 29, 31, 31, 31, 3, 37]"
      ]
     },
     "execution_count": 18,
     "metadata": {},
     "output_type": "execute_result"
    }
   ],
   "source": [
    "dame_lista_primos([1,2,3,4,5,6,7,8,9,10,11,12,13,14,15,16,17,18,19,20,21,22,23,24,25,26,27,28,29,30,31,32,31,31,3,32,33,34,35,37])"
   ]
  },
  {
   "cell_type": "code",
   "execution_count": 3,
   "metadata": {},
   "outputs": [],
   "source": [
    "# 3) Crear una función que al recibir una lista de números, devuelva el que más se repite y cuántas veces lo hace. Si hay más de un \"más repetido\", que devuelva cualquiera\n",
    "\n",
    "def mas_repetido(numeros):\n",
    "    repeticiones = 1\n",
    "    for i in range(0, len(numeros)-1):\n",
    "        aux_repe = 1\n",
    "        for j in range(i+1, len(numeros)-1):\n",
    "            if numeros[j] == numeros[i]:\n",
    "                aux_repe += 1\n",
    "        if aux_repe > repeticiones:\n",
    "            el_mas_repetido = numeros[i]\n",
    "            repeticiones = aux_repe\n",
    "    return el_mas_repetido, repeticiones     \n"
   ]
  },
  {
   "cell_type": "code",
   "execution_count": 7,
   "metadata": {},
   "outputs": [
    {
     "name": "stdout",
     "output_type": "stream",
     "text": [
      "El mas repetido es 1 y se repite 11 veces.\n"
     ]
    }
   ],
   "source": [
    "a, b = mas_repetido([1,1,1,1,1,1,1,2,3,4,5,6,6,6,6,6,6,6,6,6,7,7,8,1,1,1,1,8,8,9,9,10])\n",
    "print(f\"El mas repetido es {a} y se repite {b} veces.\")"
   ]
  },
  {
   "cell_type": "code",
   "execution_count": null,
   "metadata": {},
   "outputs": [],
   "source": [
    "# 4) A la función del punto 3, agregar un parámetro más, que permita elegir si se requiere el menor o el mayor de los mas repetidos.\n",
    "\n",
    "\n"
   ]
  }
 ],
 "metadata": {
  "kernelspec": {
   "display_name": "Python 3.10.4 64-bit",
   "language": "python",
   "name": "python3"
  },
  "language_info": {
   "codemirror_mode": {
    "name": "ipython",
    "version": 3
   },
   "file_extension": ".py",
   "mimetype": "text/x-python",
   "name": "python",
   "nbconvert_exporter": "python",
   "pygments_lexer": "ipython3",
   "version": "3.10.4"
  },
  "orig_nbformat": 4,
  "vscode": {
   "interpreter": {
    "hash": "369f2c481f4da34e4445cda3fffd2e751bd1c4d706f27375911949ba6bb62e1c"
   }
  }
 },
 "nbformat": 4,
 "nbformat_minor": 2
}
