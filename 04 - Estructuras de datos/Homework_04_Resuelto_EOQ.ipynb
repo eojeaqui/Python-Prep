{
 "cells": [
  {
   "cell_type": "markdown",
   "metadata": {},
   "source": [
    "## Estructuras de Datos\n",
    "\n",
    "1) Crear una lista que contenga nombres de ciudades del mundo que contenga más de 5 elementos e imprimir por pantalla\n",
    "\n",
    "2) Imprimir por pantalla el segundo elemento de la lista\n",
    "\n",
    "3) Imprimir por pantalla del segundo al cuarto elemento\n",
    "\n",
    "4) Visualizar el tipo de dato de la lista\n",
    "\n",
    "5) Visualizar todos los elementos de la lista a partir del tercero de manera genérica, es decir, sin explicitar la posición del último elemento\n",
    "\n",
    "6) Visualizar los primeros 4 elementos de la lista\n",
    "\n",
    "7) Agregar una ciudad más a la lista que ya exista y otra que no ¿Arroja algún tipo de error?\n",
    "\n",
    "8) Agregar otra ciudad, pero en la cuarta posición\n",
    "\n",
    "9) Concatenar otra lista a la ya creada\n",
    "\n",
    "10) Encontrar el índice de la ciudad que en el punto 7 agregamos duplicada. ¿Se nota alguna particularidad?\n",
    "\n",
    "11) ¿Qué pasa si se busca un elemento que no existe?\n",
    "\n",
    "12) Eliminar un elemento de la lista\n",
    "\n",
    "13) ¿Qué pasa si el elemento a eliminar no existe?\n",
    "\n",
    "14) Extraer el úlimo elemento de la lista, guardarlo en una variable e imprimirlo\n",
    "\n",
    "15) Mostrar la lista multiplicada por 4\n",
    "\n",
    "16) Crear una tupla que contenga los números enteros del 1 al 20\n",
    "\n",
    "17) Imprimir desde el índice 10 al 15 de la tupla\n",
    "\n",
    "18) Evaluar si los números 20 y 30 están dentro de la tupla\n",
    "\n",
    "19) Con la lista creada en el punto 1, validar la existencia del elemento 'París' y si no existe, agregarlo. Utilizar una variable e informar lo sucedido.\n",
    "\n",
    "20) Mostrar la cantidad de veces que se encuentra un elemento específico dentro de la tupla y de la lista\n",
    "\n",
    "21) Convertir la tupla en una lista\n",
    "\n",
    "22) Desempaquetar solo los primeros 3 elementos de la tupla en 3 variables\n",
    "\n",
    "23) Crear un diccionario utilizando la lista crada en el punto 1, asignandole la clave \"ciudad\". Agregar tambien otras claves, como puede ser \"Pais\" y \"Continente\".\n",
    "\n",
    "24) Imprimir las claves del diccionario\n",
    "\n",
    "25) Imprimir las ciudades a través de su clave"
   ]
  },
  {
   "cell_type": "code",
   "execution_count": 9,
   "metadata": {},
   "outputs": [
    {
     "name": "stdout",
     "output_type": "stream",
     "text": [
      "['Buenos Aires', 'Paris', 'Londres', 'El Cairo', 'Tokyo', 'Sydney']\n"
     ]
    },
    {
     "data": {
      "text/plain": [
       "list"
      ]
     },
     "execution_count": 9,
     "metadata": {},
     "output_type": "execute_result"
    }
   ],
   "source": [
    "# 1) Crear una lista que contenga nombres de ciudades del mundo que contenga más de 5 elementos e imprimir por pantalla\n",
    "\n",
    "ciudades = [\"Buenos Aires\", \"Paris\", \"Londres\", \"El Cairo\", \"Tokyo\", \"Sydney\"]\n",
    "print(ciudades)\n",
    "type(ciudades)"
   ]
  },
  {
   "cell_type": "code",
   "execution_count": 6,
   "metadata": {},
   "outputs": [
    {
     "name": "stdout",
     "output_type": "stream",
     "text": [
      "Paris\n"
     ]
    }
   ],
   "source": [
    "# 2) Imprimir por pantalla el segundo elemento de la lista\n",
    "\n",
    "print(ciudades[1])"
   ]
  },
  {
   "cell_type": "code",
   "execution_count": 7,
   "metadata": {},
   "outputs": [
    {
     "name": "stdout",
     "output_type": "stream",
     "text": [
      "['Paris', 'Londres', 'El Cairo']\n"
     ]
    }
   ],
   "source": [
    "# 3) Imprimir por pantalla del segundo al cuarto elemento\n",
    "print(ciudades[1:4])"
   ]
  },
  {
   "cell_type": "code",
   "execution_count": 12,
   "metadata": {},
   "outputs": [
    {
     "name": "stdout",
     "output_type": "stream",
     "text": [
      "<class 'list'>\n"
     ]
    },
    {
     "data": {
      "text/plain": [
       "list"
      ]
     },
     "execution_count": 12,
     "metadata": {},
     "output_type": "execute_result"
    }
   ],
   "source": [
    "# 4) Visualizar el tipo de dato de la lista\n",
    "print(type(ciudades))\n",
    "type(ciudades)"
   ]
  },
  {
   "cell_type": "code",
   "execution_count": 13,
   "metadata": {},
   "outputs": [
    {
     "name": "stdout",
     "output_type": "stream",
     "text": [
      "['Londres', 'El Cairo', 'Tokyo', 'Sydney']\n"
     ]
    }
   ],
   "source": [
    "# 5) Visualizar todos los elementos de la lista a partir del tercero de manera genérica, es decir, \n",
    "# sin explicitar la posición del último elemento\n",
    "\n",
    "print(ciudades[2:])"
   ]
  },
  {
   "cell_type": "code",
   "execution_count": 14,
   "metadata": {},
   "outputs": [
    {
     "name": "stdout",
     "output_type": "stream",
     "text": [
      "['Buenos Aires', 'Paris', 'Londres', 'El Cairo']\n"
     ]
    }
   ],
   "source": [
    "# 6) Visualizar los primeros 4 elementos de la lista\n",
    "print(ciudades[:4])"
   ]
  },
  {
   "cell_type": "code",
   "execution_count": 16,
   "metadata": {},
   "outputs": [
    {
     "name": "stdout",
     "output_type": "stream",
     "text": [
      "['Buenos Aires', 'Paris', 'Londres', 'El Cairo', 'Tokyo', 'Sydney', 'Paris', 'Seul']\n"
     ]
    }
   ],
   "source": [
    "# 7) Agregar una ciudad más a la lista que ya exista y otra que no ¿Arroja algún tipo de error?\n",
    "ciudades.append(\"Paris\")\n",
    "ciudades.append(\"Seul\")\n",
    "print(ciudades)"
   ]
  },
  {
   "cell_type": "code",
   "execution_count": 17,
   "metadata": {},
   "outputs": [
    {
     "name": "stdout",
     "output_type": "stream",
     "text": [
      "['Buenos Aires', 'Paris', 'Londres', 'Bogota', 'El Cairo', 'Tokyo', 'Sydney', 'Paris', 'Seul']\n"
     ]
    }
   ],
   "source": [
    "# 8) Agregar otra ciudad, pero en la cuarta posición\n",
    "\n",
    "ciudades.insert(3, \"Bogota\")\n",
    "print(ciudades)"
   ]
  },
  {
   "cell_type": "code",
   "execution_count": 18,
   "metadata": {},
   "outputs": [
    {
     "name": "stdout",
     "output_type": "stream",
     "text": [
      "['Buenos Aires', 'Paris', 'Londres', 'Bogota', 'El Cairo', 'Tokyo', 'Sydney', 'Paris', 'Seul', 'Madrid', 'Barcelona', 'Valencia']\n"
     ]
    }
   ],
   "source": [
    "# 9) Concatenar otra lista a la ya creada\n",
    "\n",
    "ciudades.extend([\"Madrid\", \"Barcelona\", \"Valencia\"])\n",
    "print(ciudades)"
   ]
  },
  {
   "cell_type": "markdown",
   "metadata": {},
   "source": [
    "10) Encontrar el índice de la ciudad que en el punto 7 agregamos duplicada. ¿Se nota alguna particularidad?\n",
    "\n",
    "11) ¿Qué pasa si se busca un elemento que no existe?\n",
    "\n",
    "12) Eliminar un elemento de la lista\n",
    "\n",
    "13) ¿Qué pasa si el elemento a eliminar no existe?\n",
    "\n",
    "14) Extraer el úlimo elemento de la lista, guardarlo en una variable e imprimirlo\n",
    "\n",
    "15) Mostrar la lista multiplicada por 4\n",
    "\n",
    "16) Crear una tupla que contenga los números enteros del 1 al 20\n",
    "\n",
    "17) Imprimir desde el índice 10 al 15 de la tupla\n",
    "\n",
    "18) Evaluar si los números 20 y 30 están dentro de la tupla\n",
    "\n",
    "19) Con la lista creada en el punto 1, validar la existencia del elemento 'París' y si no existe, agregarlo. Utilizar una variable e informar lo sucedido.\n",
    "\n",
    "20) Mostrar la cantidad de veces que se encuentra un elemento específico dentro de la tupla y de la lista\n",
    "\n",
    "21) Convertir la tupla en una lista\n",
    "\n",
    "22) Desempaquetar solo los primeros 3 elementos de la tupla en 3 variables\n",
    "\n",
    "23) Crear un diccionario utilizando la lista crada en el punto 1, asignandole la clave \"ciudad\". Agregar tambien otras claves, como puede ser \"Pais\" y \"Continente\".\n",
    "\n",
    "24) Imprimir las claves del diccionario\n",
    "\n",
    "25) Imprimir las ciudades a través de su clave"
   ]
  },
  {
   "cell_type": "code",
   "execution_count": 19,
   "metadata": {},
   "outputs": [
    {
     "data": {
      "text/plain": [
       "1"
      ]
     },
     "execution_count": 19,
     "metadata": {},
     "output_type": "execute_result"
    }
   ],
   "source": [
    "# 10) Encontrar el índice de la ciudad que en el punto 7 agregamos duplicada. ¿Se nota alguna particularidad?\n",
    "ciudades.index(\"Paris\")"
   ]
  },
  {
   "cell_type": "code",
   "execution_count": 20,
   "metadata": {},
   "outputs": [
    {
     "ename": "ValueError",
     "evalue": "'Roma' is not in list",
     "output_type": "error",
     "traceback": [
      "\u001b[1;31m---------------------------------------------------------------------------\u001b[0m",
      "\u001b[1;31mValueError\u001b[0m                                Traceback (most recent call last)",
      "\u001b[1;32mc:\\Users\\eojea\\Python-Prep\\04 - Estructuras de datos\\Homework_04_Resuelto_EOQ.ipynb Cell 13'\u001b[0m in \u001b[0;36m<cell line: 2>\u001b[1;34m()\u001b[0m\n\u001b[0;32m      <a href='vscode-notebook-cell:/c%3A/Users/eojea/Python-Prep/04%20-%20Estructuras%20de%20datos/Homework_04_Resuelto_EOQ.ipynb#ch0000015?line=0'>1</a>\u001b[0m \u001b[39m# 11) ¿Qué pasa si se busca un elemento que no existe?\u001b[39;00m\n\u001b[1;32m----> <a href='vscode-notebook-cell:/c%3A/Users/eojea/Python-Prep/04%20-%20Estructuras%20de%20datos/Homework_04_Resuelto_EOQ.ipynb#ch0000015?line=1'>2</a>\u001b[0m ciudades\u001b[39m.\u001b[39;49mindex(\u001b[39m\"\u001b[39;49m\u001b[39mRoma\u001b[39;49m\u001b[39m\"\u001b[39;49m)\n",
      "\u001b[1;31mValueError\u001b[0m: 'Roma' is not in list"
     ]
    }
   ],
   "source": [
    "# 11) ¿Qué pasa si se busca un elemento que no existe?\n",
    "ciudades.index(\"Roma\")"
   ]
  },
  {
   "cell_type": "code",
   "execution_count": 21,
   "metadata": {},
   "outputs": [
    {
     "name": "stdout",
     "output_type": "stream",
     "text": [
      "['Buenos Aires', 'Paris', 'Londres', 'Bogota', 'El Cairo', 'Tokyo', 'Paris', 'Seul', 'Madrid', 'Barcelona', 'Valencia']\n"
     ]
    }
   ],
   "source": [
    "# 12) Eliminar un elemento de la lista\n",
    "ciudades.remove(\"Sydney\")\n",
    "print(ciudades)"
   ]
  },
  {
   "cell_type": "code",
   "execution_count": 22,
   "metadata": {},
   "outputs": [
    {
     "ename": "ValueError",
     "evalue": "list.remove(x): x not in list",
     "output_type": "error",
     "traceback": [
      "\u001b[1;31m---------------------------------------------------------------------------\u001b[0m",
      "\u001b[1;31mValueError\u001b[0m                                Traceback (most recent call last)",
      "\u001b[1;32mc:\\Users\\eojea\\Python-Prep\\04 - Estructuras de datos\\Homework_04_Resuelto_EOQ.ipynb Cell 15'\u001b[0m in \u001b[0;36m<cell line: 2>\u001b[1;34m()\u001b[0m\n\u001b[0;32m      <a href='vscode-notebook-cell:/c%3A/Users/eojea/Python-Prep/04%20-%20Estructuras%20de%20datos/Homework_04_Resuelto_EOQ.ipynb#ch0000017?line=0'>1</a>\u001b[0m \u001b[39m# 13) ¿Qué pasa si el elemento a eliminar no existe?\u001b[39;00m\n\u001b[1;32m----> <a href='vscode-notebook-cell:/c%3A/Users/eojea/Python-Prep/04%20-%20Estructuras%20de%20datos/Homework_04_Resuelto_EOQ.ipynb#ch0000017?line=1'>2</a>\u001b[0m ciudades\u001b[39m.\u001b[39;49mremove(\u001b[39m\"\u001b[39;49m\u001b[39mWellington\u001b[39;49m\u001b[39m\"\u001b[39;49m)\n",
      "\u001b[1;31mValueError\u001b[0m: list.remove(x): x not in list"
     ]
    }
   ],
   "source": [
    "# 13) ¿Qué pasa si el elemento a eliminar no existe?\n",
    "ciudades.remove(\"Wellington\")"
   ]
  },
  {
   "cell_type": "code",
   "execution_count": 23,
   "metadata": {},
   "outputs": [
    {
     "name": "stdout",
     "output_type": "stream",
     "text": [
      "Ultimo elemento: Valencia\n"
     ]
    }
   ],
   "source": [
    "# 14) Extraer el úlimo elemento de la lista, guardarlo en una variable e imprimirlo\n",
    "ultimo = ciudades.pop()\n",
    "print(f\"Ultimo elemento: {ultimo}\")"
   ]
  },
  {
   "cell_type": "code",
   "execution_count": 24,
   "metadata": {},
   "outputs": [
    {
     "name": "stdout",
     "output_type": "stream",
     "text": [
      "['Buenos Aires', 'Paris', 'Londres', 'Bogota', 'El Cairo', 'Tokyo', 'Paris', 'Seul', 'Madrid', 'Barcelona', 'Buenos Aires', 'Paris', 'Londres', 'Bogota', 'El Cairo', 'Tokyo', 'Paris', 'Seul', 'Madrid', 'Barcelona', 'Buenos Aires', 'Paris', 'Londres', 'Bogota', 'El Cairo', 'Tokyo', 'Paris', 'Seul', 'Madrid', 'Barcelona', 'Buenos Aires', 'Paris', 'Londres', 'Bogota', 'El Cairo', 'Tokyo', 'Paris', 'Seul', 'Madrid', 'Barcelona']\n"
     ]
    }
   ],
   "source": [
    "# 15) Mostrar la lista multiplicada por 4\n",
    "print(ciudades * 4)"
   ]
  },
  {
   "cell_type": "code",
   "execution_count": 26,
   "metadata": {},
   "outputs": [
    {
     "name": "stdout",
     "output_type": "stream",
     "text": [
      "<class 'tuple'>\n",
      "(1, 2, 3, 4, 5, 6, 7, 8, 9, 10, 11, 12, 13, 14, 15, 16, 17, 18, 19, 20)\n"
     ]
    }
   ],
   "source": [
    "# 16) Crear una tupla que contenga los números enteros del 1 al 20\n",
    "mi_tupla = tuple(range(1,21))\n",
    "print(type(mi_tupla))\n",
    "print(mi_tupla)"
   ]
  },
  {
   "cell_type": "code",
   "execution_count": 27,
   "metadata": {},
   "outputs": [
    {
     "name": "stdout",
     "output_type": "stream",
     "text": [
      "(11, 12, 13, 14, 15, 16)\n"
     ]
    }
   ],
   "source": [
    "# 17) Imprimir desde el índice 10 al 15 de la tupla\n",
    "print(mi_tupla[10:16])"
   ]
  },
  {
   "cell_type": "code",
   "execution_count": 31,
   "metadata": {},
   "outputs": [
    {
     "name": "stdout",
     "output_type": "stream",
     "text": [
      "True\n",
      "False\n"
     ]
    }
   ],
   "source": [
    "# 18) Evaluar si los números 20 y 30 están dentro de la tupla\n",
    "print(20 in mi_tupla)\n",
    "print(30 in mi_tupla)"
   ]
  },
  {
   "cell_type": "markdown",
   "metadata": {},
   "source": [
    "19) Con la lista creada en el punto 1, validar la existencia del elemento 'París' y si no existe, agregarlo. Utilizar una variable e informar lo sucedido.\n",
    "\n",
    "20) Mostrar la cantidad de veces que se encuentra un elemento específico dentro de la tupla y de la lista\n",
    "\n",
    "21) Convertir la tupla en una lista\n",
    "\n",
    "22) Desempaquetar solo los primeros 3 elementos de la tupla en 3 variables\n",
    "\n",
    "23) Crear un diccionario utilizando la lista crada en el punto 1, asignandole la clave \"ciudad\". Agregar tambien otras claves, como puede ser \"Pais\" y \"Continente\".\n",
    "\n",
    "24) Imprimir las claves del diccionario\n",
    "\n",
    "25) Imprimir las ciudades a través de su clave"
   ]
  },
  {
   "cell_type": "code",
   "execution_count": 37,
   "metadata": {},
   "outputs": [
    {
     "name": "stdout",
     "output_type": "stream",
     "text": [
      "París no estaba en la lista y fue agregado\n",
      "['Buenos Aires', 'Paris', 'Londres', 'El Cairo', 'Tokyo', 'Sydney', 'París']\n"
     ]
    }
   ],
   "source": [
    "# 19) Con la lista creada en el punto 1, validar la existencia del elemento 'París' y si no existe, agregarlo. \n",
    "# Utilizar una variable e informar lo sucedido.\n",
    "elemento = \"París\"\n",
    "ciudades = [\"Buenos Aires\", \"Paris\", \"Londres\", \"El Cairo\", \"Tokyo\", \"Sydney\"]\n",
    "if elemento not in ciudades:\n",
    "    ciudades.append(elemento)\n",
    "    print(f\"{elemento} no estaba en la lista y fue agregado\")\n",
    "else:    \n",
    "    print(f\"{elemento} ya estaba en la lista\")\n",
    "print(ciudades)\n"
   ]
  },
  {
   "cell_type": "code",
   "execution_count": 40,
   "metadata": {},
   "outputs": [
    {
     "name": "stdout",
     "output_type": "stream",
     "text": [
      "3\n",
      "1\n"
     ]
    }
   ],
   "source": [
    "# 20) Mostrar la cantidad de veces que se encuentra un elemento específico dentro de la tupla y de la lista\n",
    "ciudades3 = ciudades * 3\n",
    "print(ciudades3.count(\"Londres\"))\n",
    "print(mi_tupla.count(4))"
   ]
  },
  {
   "cell_type": "code",
   "execution_count": 41,
   "metadata": {},
   "outputs": [
    {
     "name": "stdout",
     "output_type": "stream",
     "text": [
      "<class 'list'>\n",
      "[1, 2, 3, 4, 5, 6, 7, 8, 9, 10, 11, 12, 13, 14, 15, 16, 17, 18, 19, 20]\n"
     ]
    }
   ],
   "source": [
    "# 21) Convertir la tupla en una lista\n",
    "lista = list(mi_tupla)\n",
    "print(type(lista))\n",
    "print(lista)"
   ]
  },
  {
   "cell_type": "code",
   "execution_count": 42,
   "metadata": {},
   "outputs": [
    {
     "name": "stdout",
     "output_type": "stream",
     "text": [
      "1 2 3\n"
     ]
    }
   ],
   "source": [
    "# 22) Desempaquetar solo los primeros 3 elementos de la tupla en 3 variables\n",
    "a, b, c = mi_tupla[:3]\n",
    "print(a,b,c)"
   ]
  },
  {
   "cell_type": "code",
   "execution_count": 44,
   "metadata": {},
   "outputs": [
    {
     "name": "stdout",
     "output_type": "stream",
     "text": [
      "<class 'dict'>\n",
      "{'Ciudad': ['Buenos Aires', 'Paris', 'Londres', 'El Cairo', 'Tokyo', 'Sydney', 'París'], 'Pais': ['Argentina', 'Francia', 'Inglaterra', 'Egipto', 'Japon', 'Australia', 'Francia'], 'Continente': ['America', 'Europa', 'Europa', 'Africa', 'Asia', 'Oceania', 'Europa']}\n"
     ]
    }
   ],
   "source": [
    "# 23) Crear un diccionario utilizando la lista crada en el punto 1, asignandole la clave \"ciudad\". \n",
    "# Agregar tambien otras claves, como puede ser \"Pais\" y \"Continente\".\n",
    "diccionario = { \"Ciudad\": ciudades,\n",
    "\"Pais\": [\"Argentina\", \"Francia\", \"Inglaterra\", \"Egipto\", \"Japon\", \"Australia\", \"Francia\"],\n",
    "\"Continente\": [\"America\", \"Europa\", \"Europa\", \"Africa\", \"Asia\", \"Oceania\", \"Europa\"]\n",
    "}\n",
    "print(type(diccionario))\n",
    "print(diccionario)\n"
   ]
  },
  {
   "cell_type": "code",
   "execution_count": 45,
   "metadata": {},
   "outputs": [
    {
     "name": "stdout",
     "output_type": "stream",
     "text": [
      "dict_keys(['Ciudad', 'Pais', 'Continente'])\n"
     ]
    }
   ],
   "source": [
    "# 24) Imprimir las claves del diccionario\n",
    "print(diccionario.keys())"
   ]
  },
  {
   "cell_type": "code",
   "execution_count": 46,
   "metadata": {},
   "outputs": [
    {
     "name": "stdout",
     "output_type": "stream",
     "text": [
      "['Buenos Aires', 'Paris', 'Londres', 'El Cairo', 'Tokyo', 'Sydney', 'París']\n"
     ]
    }
   ],
   "source": [
    "# 25) Imprimir las ciudades a través de su clave\n",
    "print(diccionario[\"Ciudad\"])"
   ]
  }
 ],
 "metadata": {
  "interpreter": {
   "hash": "82bfcc3096c1145326170d394ec97341e3b655d4d04c391247bfafa1e554d91f"
  },
  "kernelspec": {
   "display_name": "Python 3.9.5 64-bit",
   "language": "python",
   "name": "python3"
  },
  "language_info": {
   "codemirror_mode": {
    "name": "ipython",
    "version": 3
   },
   "file_extension": ".py",
   "mimetype": "text/x-python",
   "name": "python",
   "nbconvert_exporter": "python",
   "pygments_lexer": "ipython3",
   "version": "3.9.5"
  },
  "orig_nbformat": 4
 },
 "nbformat": 4,
 "nbformat_minor": 2
}
