{
 "cells": [
  {
   "cell_type": "markdown",
   "metadata": {},
   "source": [
    "1) Crear la clase vehículo que contenga los atributos:<br>\n",
    "Color<br>\n",
    "Si es moto, auto, camioneta ó camión<br>\n",
    "Cilindrada del motor\n",
    "\n",
    "2) A la clase Vehiculo creada en el punto 1, agregar los siguientes métodos:<br>\n",
    "Acelerar<br>\n",
    "Frenar<br>\n",
    "Doblar<br>\n",
    "\n",
    "3) Instanciar 3 objetos de la clase vehículo y ejecutar sus métodos, probar luego el resultado\n",
    "\n",
    "4) Agregar a la clase Vehiculo, un método que muestre su estado, es decir, a que velocidad se encuentra y su dirección. Y otro método que muestre color, tipo y cilindrada\n",
    "\n",
    "5) Crear una clase que permita utilizar las funciones creadas en la práctica del módulo 6<br>\n",
    "Verificar Primo<br>\n",
    "Valor modal<br>\n",
    "Conversión grados<br>\n",
    "Factorial<br>\n",
    "\n",
    "6) Probar las funciones incorporadas en la clase del punto 5\n",
    "\n",
    "7) Es necesario que la clase creada en el punto 5 contenga una lista, sobre la cual se aplquen las funciones incorporadas\n",
    "\n",
    "8) Crear un archivo .py aparte y ubicar allí la clase generada en el punto anterior. Luego realizar la importación del módulo y probar alguna de sus funciones\n"
   ]
  },
  {
   "cell_type": "code",
   "execution_count": 2,
   "metadata": {},
   "outputs": [],
   "source": [
    "# # 1) Crear la clase vehículo que contenga los atributos:\n",
    "# <br>Color<br>\n",
    "# Si es moto, auto, camioneta ó camión<br>\n",
    "# Cilindrada del motor\n",
    "\n",
    "class Vehiculo:\n",
    "    def __init__(self, color, tipo, cilindrada):\n",
    "        self.color = color\n",
    "        self.tipo = tipo\n",
    "        self.cilindrada = cilindrada"
   ]
  },
  {
   "cell_type": "code",
   "execution_count": 3,
   "metadata": {},
   "outputs": [],
   "source": [
    "# 2) A la clase Vehiculo creada en el punto 1, agregar los siguientes métodos:<br>\n",
    "# Acelerar<br>\n",
    "# Frenar<br>\n",
    "# Doblar<br>\n",
    "\n",
    "class Vehiculo:\n",
    "    def __init__(self, color, tipo, cilindrada):\n",
    "        self.color = color\n",
    "        self.tipo = tipo\n",
    "        self.cilindrada = cilindrada\n",
    "        self.velocidad = 0\n",
    "        self.direccion = 0\n",
    "\n",
    "    def acelerar(self, vel):\n",
    "        self.velocidad += vel\n",
    "\n",
    "    def frenar(self, vel):\n",
    "        self.velocidad -= vel\n",
    "\n",
    "    def doblar(self, grados):\n",
    "        self.direccion += grados"
   ]
  },
  {
   "cell_type": "code",
   "execution_count": 4,
   "metadata": {},
   "outputs": [
    {
     "name": "stdout",
     "output_type": "stream",
     "text": [
      "v1\n",
      "auto, blanco, 2 cilindros\n",
      "Velocidad: 4\n",
      "Direccion: 0\n",
      "v2\n",
      "moto, rojo, 250cc\n",
      "Velocidad: 0\n",
      "Direccion: 90\n",
      "v3\n",
      "camion, negro, v8\n",
      "Velocidad: -2\n",
      "Direccion: 0\n"
     ]
    }
   ],
   "source": [
    "# 3) Instanciar 3 objetos de la clase vehículo y ejecutar sus métodos, probar luego el resultado\n",
    "\n",
    "v1 = Vehiculo('blanco', \"auto\", '2 cilindros')\n",
    "v2 = Vehiculo('rojo', \"moto\", '250cc')\n",
    "v3 = Vehiculo('negro', \"camion\", 'v8')\n",
    "v1.acelerar(4)\n",
    "v2.doblar(90)\n",
    "v3.frenar(2)\n",
    "print(f\"v1\\n{v1.tipo}, {v1.color}, {v1.cilindrada}\\nVelocidad: {v1.velocidad}\\nDireccion: {v1.direccion}\")\n",
    "print(f\"v2\\n{v2.tipo}, {v2.color}, {v2.cilindrada}\\nVelocidad: {v2.velocidad}\\nDireccion: {v2.direccion}\")\n",
    "print(f\"v3\\n{v3.tipo}, {v3.color}, {v3.cilindrada}\\nVelocidad: {v3.velocidad}\\nDireccion: {v3.direccion}\")\n"
   ]
  },
  {
   "cell_type": "code",
   "execution_count": null,
   "metadata": {},
   "outputs": [],
   "source": [
    "# 4) Agregar a la clase Vehiculo, un método que muestre su estado, es decir, a que velocidad se encuentra y su dirección. Y otro método que muestre color, tipo y cilindrada\n",
    "\n",
    "class Vehiculo:\n",
    "    def __init__(self, color, tipo, cilindrada):\n",
    "        self.color = color\n",
    "        self.tipo = tipo\n",
    "        self.cilindrada = cilindrada\n",
    "        self.velocidad = 0\n",
    "        self.direccion = 0\n",
    "\n",
    "    def acelerar(self, vel):\n",
    "        self.velocidad += vel\n",
    "\n",
    "    def frenar(self, vel):\n",
    "        self.velocidad -= vel\n",
    "\n",
    "    def doblar(self, grados):\n",
    "        self.direccion += grados\n",
    "\n",
    "    def estado(self):\n",
    "        print(f\"Velocidad: {self.velocidad}\\nDireccion: {self.direccion}\")\n",
    "    \n",
    "    def descripcion(self):\n",
    "        print(f\"Tipo: {self.tipo}\\nColor: {self.color}\\nCilindrada: {v3.cilindrada})"
   ]
  }
 ],
 "metadata": {
  "kernelspec": {
   "display_name": "Python 3.10.4 64-bit",
   "language": "python",
   "name": "python3"
  },
  "language_info": {
   "codemirror_mode": {
    "name": "ipython",
    "version": 3
   },
   "file_extension": ".py",
   "mimetype": "text/x-python",
   "name": "python",
   "nbconvert_exporter": "python",
   "pygments_lexer": "ipython3",
   "version": "3.10.4"
  },
  "orig_nbformat": 4,
  "vscode": {
   "interpreter": {
    "hash": "369f2c481f4da34e4445cda3fffd2e751bd1c4d706f27375911949ba6bb62e1c"
   }
  }
 },
 "nbformat": 4,
 "nbformat_minor": 2
}
