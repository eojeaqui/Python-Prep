{
 "cells": [
  {
   "cell_type": "markdown",
   "metadata": {},
   "source": [
    "1) Crear una variable que contenga un elemento del conjunto de números enteros y luego imprimir por pantalla si es mayor o menor a cero\n",
    "\n",
    "2) Crear dos variables y un condicional que informe si son del mismo tipo de dato\n",
    "\n",
    "3) Para los valores enteros del 1 al 20, imprimir por pantalla si es par o impar\n",
    "\n",
    "4) En un ciclo for mostrar para los valores entre 0 y 5 el resultado de elevarlo a la potencia igual a 3\n",
    "\n",
    "5) Crear una variable que contenga un número entero y realizar un ciclo for la misma cantidad de ciclos\n",
    "\n",
    "6) Utilizar un ciclo while para realizar el factorial de un número guardado en una variable, sólo si la variable contiene un número entero mayor a 0\n",
    "\n",
    "7) Crear un ciclo for dentro de un ciclo while\n",
    "\n",
    "8) Crear un ciclo while dentro de un ciclo for\n",
    "\n",
    "9) Imprimir los números primos existentes entre 0 y 30\n",
    "\n",
    "10) ¿Se puede mejorar el proceso del punto 9? Utilizar las sentencias break y/ó continue para tal fin\n",
    "\n",
    "11) En los puntos 9 y 10, se diseño un código que encuentra números primos y además se lo optimizó. ¿Es posible saber en qué medida se optimizó?\n",
    "\n",
    "12) Si la cantidad de números que se evalúa es mayor a treinta, esa optimización crece?\n",
    "\n",
    "13) Aplicando continue, armar un ciclo while que solo imprima los valores divisibles por 12, dentro del rango de números de 100 a 300\n",
    "\n",
    "14) Utilizar la función **input()** que permite hacer ingresos por teclado, para encontrar números primos y dar la opción al usario de buscar el siguiente\n",
    "\n",
    "15) Crear un ciclo while que encuentre dentro del rango de 100 a 300 el primer número divisible por 3 y además múltiplo de 6"
   ]
  },
  {
   "cell_type": "code",
   "execution_count": 3,
   "metadata": {},
   "outputs": [
    {
     "name": "stdout",
     "output_type": "stream",
     "text": [
      "-5 no es mayor que 0\n"
     ]
    }
   ],
   "source": [
    "# 1) Crear una variable que contenga un elemento del conjunto de números enteros y luego imprimir por pantalla si es mayor o menor a cero\n",
    "\n",
    "a = -5\n",
    "if a > 0:\n",
    "    print(f\"{a} es mayor que 0\")\n",
    "else:\n",
    "    print(f\"{a} no es mayor que 0\")\n"
   ]
  },
  {
   "cell_type": "code",
   "execution_count": 9,
   "metadata": {},
   "outputs": [
    {
     "name": "stdout",
     "output_type": "stream",
     "text": [
      "No son el mismo tipo de dato\n"
     ]
    }
   ],
   "source": [
    "# 2) Crear dos variables y un condicional que informe si son del mismo tipo de dato\n",
    "var1 = 2\n",
    "var2 = \"2\"\n",
    "if type(var1) == type(var2):\n",
    "    print(\"Mismo tipo de dato\")\n",
    "else:\n",
    "    print(\"No son el mismo tipo de dato\")"
   ]
  },
  {
   "cell_type": "code",
   "execution_count": 10,
   "metadata": {},
   "outputs": [
    {
     "name": "stdout",
     "output_type": "stream",
     "text": [
      "1 es impar\n",
      "2 es par\n",
      "3 es impar\n",
      "4 es par\n",
      "5 es impar\n",
      "6 es par\n",
      "7 es impar\n",
      "8 es par\n",
      "9 es impar\n",
      "10 es par\n",
      "11 es impar\n",
      "12 es par\n",
      "13 es impar\n",
      "14 es par\n",
      "15 es impar\n",
      "16 es par\n",
      "17 es impar\n",
      "18 es par\n",
      "19 es impar\n",
      "20 es par\n"
     ]
    }
   ],
   "source": [
    "# 3) Para los valores enteros del 1 al 20, imprimir por pantalla si es par o impar\n",
    "for nro in range(1, 21):\n",
    "    if nro % 2 == 0:\n",
    "        print(f\"{nro} es par\")\n",
    "    else:\n",
    "        print(f\"{nro} es impar\")"
   ]
  },
  {
   "cell_type": "code",
   "execution_count": 14,
   "metadata": {},
   "outputs": [
    {
     "name": "stdout",
     "output_type": "stream",
     "text": [
      "0 a la potencia 3 es  0\n",
      "1 a la potencia 3 es  1\n",
      "2 a la potencia 3 es  8\n",
      "3 a la potencia 3 es  27\n",
      "4 a la potencia 3 es  64\n",
      "5 a la potencia 3 es  125\n"
     ]
    }
   ],
   "source": [
    "# 4) En un ciclo for mostrar para los valores entre 0 y 5 el resultado de elevarlo a la potencia igual a 3\n",
    "pot = 3\n",
    "for nro in range(0,6):\n",
    "    print(f\"{nro} a la potencia {pot} es \", nro**pot)"
   ]
  },
  {
   "cell_type": "code",
   "execution_count": 17,
   "metadata": {},
   "outputs": [
    {
     "name": "stdout",
     "output_type": "stream",
     "text": [
      "Ciclo 1 de 4\n",
      "Ciclo 2 de 4\n",
      "Ciclo 3 de 4\n",
      "Ciclo 4 de 4\n"
     ]
    }
   ],
   "source": [
    "# 5) Crear una variable que contenga un número entero y realizar un ciclo for la misma cantidad de ciclos\n",
    "var = 4\n",
    "for nro in range(1, var + 1):\n",
    "    print(f\"Ciclo {nro} de {var}\")"
   ]
  },
  {
   "cell_type": "code",
   "execution_count": 30,
   "metadata": {},
   "outputs": [
    {
     "name": "stdout",
     "output_type": "stream",
     "text": [
      "El factorial de 5 es 120\n"
     ]
    }
   ],
   "source": [
    "# 6) Utilizar un ciclo while para realizar el factorial de un número guardado en una variable, sólo si la variable contiene un número entero mayor a 0\n",
    "\n",
    "var = 5\n",
    "if type(var) == int:\n",
    "    if var > 0:\n",
    "        factorial = 1\n",
    "        aux = var\n",
    "        while(aux > 0):\n",
    "            factorial *= aux\n",
    "            aux -= 1\n",
    "        print(f\"El factorial de {var} es {factorial}\")\n",
    "    else:\n",
    "        print(\"El entero ingresado no es mayor a 0\")\n",
    "else:\n",
    "    print(\"No ingresaste un nro entero\")"
   ]
  },
  {
   "cell_type": "code",
   "execution_count": 33,
   "metadata": {},
   "outputs": [
    {
     "name": "stdout",
     "output_type": "stream",
     "text": [
      "1\n",
      "2\n",
      "3\n",
      "4\n",
      "1\n",
      "2\n",
      "3\n",
      "1\n",
      "2\n",
      "1\n"
     ]
    }
   ],
   "source": [
    "# 7) Crear un ciclo for dentro de un ciclo while\n",
    "i = 4\n",
    "while i > 0:\n",
    "    for nro in range(1,i+1):\n",
    "        print(nro)\n",
    "    i -= 1\n"
   ]
  },
  {
   "cell_type": "code",
   "execution_count": 47,
   "metadata": {},
   "outputs": [
    {
     "name": "stdout",
     "output_type": "stream",
     "text": [
      "3\n",
      "2\n",
      "1\n",
      "3\n",
      "2\n",
      "1\n",
      "3\n",
      "2\n",
      "1\n",
      "3\n",
      "2\n",
      "1\n"
     ]
    }
   ],
   "source": [
    "# 8) Crear un ciclo while dentro de un ciclo for\n",
    "\n",
    "for nro in range(1,5):\n",
    "    i = 3\n",
    "    while i > 0:\n",
    "        print(i)\n",
    "        i -= 1"
   ]
  },
  {
   "cell_type": "code",
   "execution_count": 1,
   "metadata": {},
   "outputs": [
    {
     "name": "stdout",
     "output_type": "stream",
     "text": [
      "2\n",
      "3\n",
      "5\n",
      "7\n",
      "11\n",
      "13\n",
      "17\n",
      "19\n",
      "23\n",
      "29\n"
     ]
    }
   ],
   "source": [
    "# 9) Imprimir los números primos existentes entre 0 y 30\n",
    "\n",
    "for nro in range(2,30):\n",
    "    es_primo = True\n",
    "    aux = nro - 1\n",
    "    while aux > 1:\n",
    "        if nro % aux == 0:\n",
    "            es_primo = False\n",
    "        aux -= 1\n",
    "    if es_primo: print(nro)"
   ]
  },
  {
   "cell_type": "code",
   "execution_count": 2,
   "metadata": {},
   "outputs": [
    {
     "name": "stdout",
     "output_type": "stream",
     "text": [
      "2\n",
      "3\n",
      "5\n",
      "7\n",
      "11\n",
      "13\n",
      "17\n",
      "19\n",
      "23\n",
      "29\n"
     ]
    }
   ],
   "source": [
    "# 10) ¿Se puede mejorar el proceso del punto 9? Utilizar las sentencias break y/ó continue para tal fin\n",
    "\n",
    "for nro in range(2,30):\n",
    "    es_primo = True\n",
    "    aux = nro - 1\n",
    "    while aux > 1:\n",
    "        if nro % aux == 0:\n",
    "            es_primo = False\n",
    "            break\n",
    "        aux -= 1\n",
    "    if es_primo: print(nro)"
   ]
  },
  {
   "cell_type": "code",
   "execution_count": 5,
   "metadata": {},
   "outputs": [
    {
     "name": "stdout",
     "output_type": "stream",
     "text": [
      "2\n",
      "3\n",
      "5\n",
      "7\n",
      "11\n",
      "13\n",
      "17\n",
      "19\n",
      "23\n",
      "29\n",
      "Ciclos while9 = 378\n",
      "2\n",
      "3\n",
      "5\n",
      "7\n",
      "11\n",
      "13\n",
      "17\n",
      "19\n",
      "23\n",
      "29\n",
      "Ciclos while10 = 281\n",
      "Usar el break mejoro la performance un 25.66 %\n"
     ]
    }
   ],
   "source": [
    "# 11) En los puntos 9 y 10, se diseño un código que encuentra números primos y además se lo optimizó. ¿Es posible saber en qué medida se optimizó?\n",
    "\n",
    "# Si, viendo cuantos ciclos me ahorro.\n",
    "\n",
    "# el 9:\n",
    "while9 = 0\n",
    "for nro in range(2,30):\n",
    "    es_primo = True\n",
    "    aux = nro - 1\n",
    "    while aux > 1:\n",
    "        while9 += 1\n",
    "        if nro % aux == 0:\n",
    "            es_primo = False\n",
    "        aux -= 1\n",
    "    if es_primo: print(nro)\n",
    "print(f\"Ciclos while9 = {while9}\")\n",
    "\n",
    "# el 10:\n",
    "while10 = 0\n",
    "for nro in range(2,30):\n",
    "    es_primo = True\n",
    "    aux = nro - 1\n",
    "    while aux > 1:\n",
    "        while10 += 1\n",
    "        if nro % aux == 0:\n",
    "            es_primo = False\n",
    "            break\n",
    "        aux -= 1\n",
    "    if es_primo: print(nro)\n",
    "print(f\"Ciclos while10 = {while10}\")\n",
    "print(f\"Usar el break mejoro la performance un {round((1 - while10/while9)*100,2)} %\")\n"
   ]
  },
  {
   "cell_type": "code",
   "execution_count": 8,
   "metadata": {},
   "outputs": [
    {
     "name": "stdout",
     "output_type": "stream",
     "text": [
      "2\n",
      "3\n",
      "5\n",
      "7\n",
      "11\n",
      "13\n",
      "17\n",
      "19\n",
      "23\n",
      "29\n",
      "31\n",
      "37\n",
      "41\n",
      "43\n",
      "47\n",
      "53\n",
      "59\n",
      "61\n",
      "67\n",
      "71\n",
      "73\n",
      "79\n",
      "83\n",
      "89\n",
      "97\n",
      "Ciclos while9 = 4753\n",
      "2\n",
      "3\n",
      "5\n",
      "7\n",
      "11\n",
      "13\n",
      "17\n",
      "19\n",
      "23\n",
      "29\n",
      "31\n",
      "37\n",
      "41\n",
      "43\n",
      "47\n",
      "53\n",
      "59\n",
      "61\n",
      "67\n",
      "71\n",
      "73\n",
      "79\n",
      "83\n",
      "89\n",
      "97\n",
      "Ciclos while10 = 3284\n",
      "Usar el break mejoro la performance un 30.91 %\n"
     ]
    }
   ],
   "source": [
    "# 12) Si la cantidad de números que se evalúa es mayor a treinta, esa optimización crece?\n",
    "\n",
    "# el 9:\n",
    "while9 = 0\n",
    "for nro in range(2,100):\n",
    "    es_primo = True\n",
    "    aux = nro - 1\n",
    "    while aux > 1:\n",
    "        while9 += 1\n",
    "        if nro % aux == 0:\n",
    "            es_primo = False\n",
    "        aux -= 1\n",
    "    if es_primo: print(nro)\n",
    "print(f\"Ciclos while9 = {while9}\")\n",
    "\n",
    "# el 10:\n",
    "while10 = 0\n",
    "for nro in range(2,100):\n",
    "    es_primo = True\n",
    "    aux = nro - 1\n",
    "    while aux > 1:\n",
    "        while10 += 1\n",
    "        if nro % aux == 0:\n",
    "            es_primo = False\n",
    "            break\n",
    "        aux -= 1\n",
    "    if es_primo: print(nro)\n",
    "print(f\"Ciclos while10 = {while10}\")\n",
    "print(f\"Usar el break mejoro la performance un {round((1 - while10/while9)*100,2)} %\")"
   ]
  },
  {
   "cell_type": "code",
   "execution_count": 10,
   "metadata": {},
   "outputs": [
    {
     "name": "stdout",
     "output_type": "stream",
     "text": [
      "108\n",
      "120\n",
      "132\n",
      "144\n",
      "156\n",
      "168\n",
      "180\n",
      "192\n",
      "204\n",
      "216\n",
      "228\n",
      "240\n",
      "252\n",
      "264\n",
      "276\n",
      "288\n",
      "300\n",
      "108  es divisible por 12\n",
      "120  es divisible por 12\n",
      "132  es divisible por 12\n",
      "144  es divisible por 12\n",
      "156  es divisible por 12\n",
      "168  es divisible por 12\n",
      "180  es divisible por 12\n",
      "192  es divisible por 12\n",
      "204  es divisible por 12\n",
      "216  es divisible por 12\n",
      "228  es divisible por 12\n",
      "240  es divisible por 12\n",
      "252  es divisible por 12\n",
      "264  es divisible por 12\n",
      "276  es divisible por 12\n",
      "288  es divisible por 12\n",
      "300  es divisible por 12\n"
     ]
    }
   ],
   "source": [
    "# 13) Aplicando continue, armar un ciclo while que solo imprima los valores divisibles por 12, dentro del rango de números de 100 a 300\n",
    "\n",
    "# mio\n",
    "n = 100\n",
    "while n < 301:\n",
    "    if n % 12 == 0:\n",
    "        print(n)\n",
    "    n += 1\n",
    "\n",
    "# resuelto con continue\n",
    "n = 99\n",
    "while(n <= 300):\n",
    "    n += 1\n",
    "    if (n % 12 != 0):\n",
    "        continue\n",
    "    print(n, ' es divisible por 12')\n"
   ]
  },
  {
   "cell_type": "code",
   "execution_count": 15,
   "metadata": {},
   "outputs": [
    {
     "name": "stdout",
     "output_type": "stream",
     "text": [
      "Su nro es 4\n"
     ]
    }
   ],
   "source": [
    "# 14) Utilizar la función **input()** que permite hacer ingresos por teclado, para encontrar números primos y \n",
    "# dar la opción al usario de buscar el siguiente\n",
    "\n",
    "nro = int(input(\"Ingrese un nro: \"))\n",
    "print(f\"Su nro es {nro}\")"
   ]
  },
  {
   "cell_type": "code",
   "execution_count": 17,
   "metadata": {},
   "outputs": [
    {
     "name": "stdout",
     "output_type": "stream",
     "text": [
      "102 es divisible por 3 y multiplo de 6\n"
     ]
    }
   ],
   "source": [
    "# 15) Crear un ciclo while que encuentre dentro del rango de 100 a 300 el primer número divisible por 3 y además múltiplo de 6\n",
    "\n",
    "n = 99\n",
    "while n < 301:\n",
    "    n += 1\n",
    "    if n % 3 == 0:\n",
    "        if n % 6 == 0:\n",
    "            print(f\"{n} es divisible por 3 y multiplo de 6\")\n",
    "            break"
   ]
  }
 ],
 "metadata": {
  "interpreter": {
   "hash": "82bfcc3096c1145326170d394ec97341e3b655d4d04c391247bfafa1e554d91f"
  },
  "kernelspec": {
   "display_name": "Python 3.9.5 64-bit",
   "language": "python",
   "name": "python3"
  },
  "language_info": {
   "codemirror_mode": {
    "name": "ipython",
    "version": 3
   },
   "file_extension": ".py",
   "mimetype": "text/x-python",
   "name": "python",
   "nbconvert_exporter": "python",
   "pygments_lexer": "ipython3",
   "version": "3.9.5"
  },
  "orig_nbformat": 4
 },
 "nbformat": 4,
 "nbformat_minor": 2
}
